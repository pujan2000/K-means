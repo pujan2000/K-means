{
  "cells": [
    {
      "cell_type": "code",
      "execution_count": 155,
      "metadata": {},
      "outputs": [],
      "source": [
        "import numpy as np\n",
        "import matplotlib.pyplot as plt\n",
        "import pandas as pd\n",
        "import seaborn as sns\n",
        "import math"
      ]
    },
    {
      "cell_type": "markdown",
      "metadata": {
        "id": "L_njda2B4cD3"
      },
      "source": [
        "## Q1 K-Means"
      ]
    },
    {
      "cell_type": "markdown",
      "metadata": {
        "id": "LSgVf7Ji4fdp"
      },
      "source": [
        "Implement K-Means Clustering on the dataset at the following location :  https://archive.ics.uci.edu/ml/datasets/Facebook+Live+Sellers+in+Thailand\n",
        "\n",
        "You are expected to do all necessary EDA, feature scaling and transforms.\n",
        "\n",
        "First, arbitarily choose cluster value as 2. Then use the elbow method which was discussed in class to identify the best number of cluster. While exploring this, if you observe the need to consider inertia as a factor, do so with proper rationale.\n",
        "\n",
        "Write a bried explanation as to how PCA can help with clustering in this example."
      ]
    },
    {
      "cell_type": "code",
      "execution_count": 156,
      "metadata": {},
      "outputs": [],
      "source": [
        "dataset = pd.read_csv(\"Live_20210128.csv\")"
      ]
    },
    {
      "cell_type": "code",
      "execution_count": 157,
      "metadata": {},
      "outputs": [
        {
          "data": {
            "text/plain": [
              "status_id              0\n",
              "status_type            0\n",
              "status_published       0\n",
              "num_reactions          0\n",
              "num_comments           0\n",
              "num_shares             0\n",
              "num_likes              0\n",
              "num_loves              0\n",
              "num_wows               0\n",
              "num_hahas              0\n",
              "num_sads               0\n",
              "num_angrys             0\n",
              "Column1             7050\n",
              "Column2             7050\n",
              "Column3             7050\n",
              "Column4             7050\n",
              "dtype: int64"
            ]
          },
          "execution_count": 157,
          "metadata": {},
          "output_type": "execute_result"
        }
      ],
      "source": [
        "dataset.isna().sum()"
      ]
    },
    {
      "cell_type": "code",
      "execution_count": 158,
      "metadata": {},
      "outputs": [],
      "source": [
        "data = dataset.drop(['Column1','Column2','Column3','Column4','status_id','status_published'], axis= 1)"
      ]
    },
    {
      "cell_type": "code",
      "execution_count": 159,
      "metadata": {},
      "outputs": [
        {
          "data": {
            "text/html": [
              "<div>\n",
              "<style scoped>\n",
              "    .dataframe tbody tr th:only-of-type {\n",
              "        vertical-align: middle;\n",
              "    }\n",
              "\n",
              "    .dataframe tbody tr th {\n",
              "        vertical-align: top;\n",
              "    }\n",
              "\n",
              "    .dataframe thead th {\n",
              "        text-align: right;\n",
              "    }\n",
              "</style>\n",
              "<table border=\"1\" class=\"dataframe\">\n",
              "  <thead>\n",
              "    <tr style=\"text-align: right;\">\n",
              "      <th></th>\n",
              "      <th>status_type</th>\n",
              "      <th>num_reactions</th>\n",
              "      <th>num_comments</th>\n",
              "      <th>num_shares</th>\n",
              "      <th>num_likes</th>\n",
              "      <th>num_loves</th>\n",
              "      <th>num_wows</th>\n",
              "      <th>num_hahas</th>\n",
              "      <th>num_sads</th>\n",
              "      <th>num_angrys</th>\n",
              "    </tr>\n",
              "  </thead>\n",
              "  <tbody>\n",
              "    <tr>\n",
              "      <th>0</th>\n",
              "      <td>video</td>\n",
              "      <td>529</td>\n",
              "      <td>512</td>\n",
              "      <td>262</td>\n",
              "      <td>432</td>\n",
              "      <td>92</td>\n",
              "      <td>3</td>\n",
              "      <td>1</td>\n",
              "      <td>1</td>\n",
              "      <td>0</td>\n",
              "    </tr>\n",
              "    <tr>\n",
              "      <th>1</th>\n",
              "      <td>photo</td>\n",
              "      <td>150</td>\n",
              "      <td>0</td>\n",
              "      <td>0</td>\n",
              "      <td>150</td>\n",
              "      <td>0</td>\n",
              "      <td>0</td>\n",
              "      <td>0</td>\n",
              "      <td>0</td>\n",
              "      <td>0</td>\n",
              "    </tr>\n",
              "    <tr>\n",
              "      <th>2</th>\n",
              "      <td>video</td>\n",
              "      <td>227</td>\n",
              "      <td>236</td>\n",
              "      <td>57</td>\n",
              "      <td>204</td>\n",
              "      <td>21</td>\n",
              "      <td>1</td>\n",
              "      <td>1</td>\n",
              "      <td>0</td>\n",
              "      <td>0</td>\n",
              "    </tr>\n",
              "    <tr>\n",
              "      <th>3</th>\n",
              "      <td>photo</td>\n",
              "      <td>111</td>\n",
              "      <td>0</td>\n",
              "      <td>0</td>\n",
              "      <td>111</td>\n",
              "      <td>0</td>\n",
              "      <td>0</td>\n",
              "      <td>0</td>\n",
              "      <td>0</td>\n",
              "      <td>0</td>\n",
              "    </tr>\n",
              "    <tr>\n",
              "      <th>4</th>\n",
              "      <td>photo</td>\n",
              "      <td>213</td>\n",
              "      <td>0</td>\n",
              "      <td>0</td>\n",
              "      <td>204</td>\n",
              "      <td>9</td>\n",
              "      <td>0</td>\n",
              "      <td>0</td>\n",
              "      <td>0</td>\n",
              "      <td>0</td>\n",
              "    </tr>\n",
              "  </tbody>\n",
              "</table>\n",
              "</div>"
            ],
            "text/plain": [
              "  status_type  num_reactions  num_comments  num_shares  num_likes  num_loves  \\\n",
              "0       video            529           512         262        432         92   \n",
              "1       photo            150             0           0        150          0   \n",
              "2       video            227           236          57        204         21   \n",
              "3       photo            111             0           0        111          0   \n",
              "4       photo            213             0           0        204          9   \n",
              "\n",
              "   num_wows  num_hahas  num_sads  num_angrys  \n",
              "0         3          1         1           0  \n",
              "1         0          0         0           0  \n",
              "2         1          1         0           0  \n",
              "3         0          0         0           0  \n",
              "4         0          0         0           0  "
            ]
          },
          "execution_count": 159,
          "metadata": {},
          "output_type": "execute_result"
        }
      ],
      "source": [
        "data.head()"
      ]
    },
    {
      "cell_type": "code",
      "execution_count": 160,
      "metadata": {},
      "outputs": [
        {
          "data": {
            "text/plain": [
              "array([[<AxesSubplot:title={'center':'num_reactions'}>,\n",
              "        <AxesSubplot:title={'center':'num_comments'}>,\n",
              "        <AxesSubplot:title={'center':'num_shares'}>],\n",
              "       [<AxesSubplot:title={'center':'num_likes'}>,\n",
              "        <AxesSubplot:title={'center':'num_loves'}>,\n",
              "        <AxesSubplot:title={'center':'num_wows'}>],\n",
              "       [<AxesSubplot:title={'center':'num_hahas'}>,\n",
              "        <AxesSubplot:title={'center':'num_sads'}>,\n",
              "        <AxesSubplot:title={'center':'num_angrys'}>]], dtype=object)"
            ]
          },
          "execution_count": 160,
          "metadata": {},
          "output_type": "execute_result"
        },
        {
          "data": {
            "image/png": "[encoded data removed]",
            "text/plain": [
              "<Figure size 1440x1080 with 9 Axes>"
            ]
          },
          "metadata": {
            "needs_background": "light"
          },
          "output_type": "display_data"
        }
      ],
      "source": [
        "data.hist(bins= 10, figsize=(20,15))"
      ]
    },
    {
      "attachments": {},
      "cell_type": "markdown",
      "metadata": {},
      "source": [
        "Since clustering algorithms including kmeans use distance-based measurements to determine the similarity between data points, it’s recommended to standardize the data to have a mean of zero and a standard deviation of one since almost always the features in any dataset would have different units of measurements"
      ]
    },
    {
      "attachments": {},
      "cell_type": "markdown",
      "metadata": {},
      "source": [
        "### K means with One hot encoding"
      ]
    },
    {
      "cell_type": "code",
      "execution_count": 161,
      "metadata": {},
      "outputs": [],
      "source": [
        "data_copy = pd.get_dummies(data, columns= ['status_type'])"
      ]
    },
    {
      "cell_type": "code",
      "execution_count": 162,
      "metadata": {},
      "outputs": [
        {
          "data": {
            "text/html": [
              "<div>\n",
              "<style scoped>\n",
              "    .dataframe tbody tr th:only-of-type {\n",
              "        vertical-align: middle;\n",
              "    }\n",
              "\n",
              "    .dataframe tbody tr th {\n",
              "        vertical-align: top;\n",
              "    }\n",
              "\n",
              "    .dataframe thead th {\n",
              "        text-align: right;\n",
              "    }\n",
              "</style>\n",
              "<table border=\"1\" class=\"dataframe\">\n",
              "  <thead>\n",
              "    <tr style=\"text-align: right;\">\n",
              "      <th></th>\n",
              "      <th>num_reactions</th>\n",
              "      <th>num_comments</th>\n",
              "      <th>num_shares</th>\n",
              "      <th>num_likes</th>\n",
              "      <th>num_loves</th>\n",
              "      <th>num_wows</th>\n",
              "      <th>num_hahas</th>\n",
              "      <th>num_sads</th>\n",
              "      <th>num_angrys</th>\n",
              "      <th>status_type_link</th>\n",
              "      <th>status_type_photo</th>\n",
              "      <th>status_type_status</th>\n",
              "      <th>status_type_video</th>\n",
              "    </tr>\n",
              "  </thead>\n",
              "  <tbody>\n",
              "    <tr>\n",
              "      <th>0</th>\n",
              "      <td>529</td>\n",
              "      <td>512</td>\n",
              "      <td>262</td>\n",
              "      <td>432</td>\n",
              "      <td>92</td>\n",
              "      <td>3</td>\n",
              "      <td>1</td>\n",
              "      <td>1</td>\n",
              "      <td>0</td>\n",
              "      <td>0</td>\n",
              "      <td>0</td>\n",
              "      <td>0</td>\n",
              "      <td>1</td>\n",
              "    </tr>\n",
              "    <tr>\n",
              "      <th>1</th>\n",
              "      <td>150</td>\n",
              "      <td>0</td>\n",
              "      <td>0</td>\n",
              "      <td>150</td>\n",
              "      <td>0</td>\n",
              "      <td>0</td>\n",
              "      <td>0</td>\n",
              "      <td>0</td>\n",
              "      <td>0</td>\n",
              "      <td>0</td>\n",
              "      <td>1</td>\n",
              "      <td>0</td>\n",
              "      <td>0</td>\n",
              "    </tr>\n",
              "    <tr>\n",
              "      <th>2</th>\n",
              "      <td>227</td>\n",
              "      <td>236</td>\n",
              "      <td>57</td>\n",
              "      <td>204</td>\n",
              "      <td>21</td>\n",
              "      <td>1</td>\n",
              "      <td>1</td>\n",
              "      <td>0</td>\n",
              "      <td>0</td>\n",
              "      <td>0</td>\n",
              "      <td>0</td>\n",
              "      <td>0</td>\n",
              "      <td>1</td>\n",
              "    </tr>\n",
              "    <tr>\n",
              "      <th>3</th>\n",
              "      <td>111</td>\n",
              "      <td>0</td>\n",
              "      <td>0</td>\n",
              "      <td>111</td>\n",
              "      <td>0</td>\n",
              "      <td>0</td>\n",
              "      <td>0</td>\n",
              "      <td>0</td>\n",
              "      <td>0</td>\n",
              "      <td>0</td>\n",
              "      <td>1</td>\n",
              "      <td>0</td>\n",
              "      <td>0</td>\n",
              "    </tr>\n",
              "    <tr>\n",
              "      <th>4</th>\n",
              "      <td>213</td>\n",
              "      <td>0</td>\n",
              "      <td>0</td>\n",
              "      <td>204</td>\n",
              "      <td>9</td>\n",
              "      <td>0</td>\n",
              "      <td>0</td>\n",
              "      <td>0</td>\n",
              "      <td>0</td>\n",
              "      <td>0</td>\n",
              "      <td>1</td>\n",
              "      <td>0</td>\n",
              "      <td>0</td>\n",
              "    </tr>\n",
              "  </tbody>\n",
              "</table>\n",
              "</div>"
            ],
            "text/plain": [
              "   num_reactions  num_comments  num_shares  num_likes  num_loves  num_wows  \\\n",
              "0            529           512         262        432         92         3   \n",
              "1            150             0           0        150          0         0   \n",
              "2            227           236          57        204         21         1   \n",
              "3            111             0           0        111          0         0   \n",
              "4            213             0           0        204          9         0   \n",
              "\n",
              "   num_hahas  num_sads  num_angrys  status_type_link  status_type_photo  \\\n",
              "0          1         1           0                 0                  0   \n",
              "1          0         0           0                 0                  1   \n",
              "2          1         0           0                 0                  0   \n",
              "3          0         0           0                 0                  1   \n",
              "4          0         0           0                 0                  1   \n",
              "\n",
              "   status_type_status  status_type_video  \n",
              "0                   0                  1  \n",
              "1                   0                  0  \n",
              "2                   0                  1  \n",
              "3                   0                  0  \n",
              "4                   0                  0  "
            ]
          },
          "execution_count": 162,
          "metadata": {},
          "output_type": "execute_result"
        }
      ],
      "source": [
        "data_copy.head()"
      ]
    },
    {
      "cell_type": "code",
      "execution_count": 163,
      "metadata": {},
      "outputs": [
        {
          "data": {
            "text/html": [
              "<div>\n",
              "<style scoped>\n",
              "    .dataframe tbody tr th:only-of-type {\n",
              "        vertical-align: middle;\n",
              "    }\n",
              "\n",
              "    .dataframe tbody tr th {\n",
              "        vertical-align: top;\n",
              "    }\n",
              "\n",
              "    .dataframe thead th {\n",
              "        text-align: right;\n",
              "    }\n",
              "</style>\n",
              "<table border=\"1\" class=\"dataframe\">\n",
              "  <thead>\n",
              "    <tr style=\"text-align: right;\">\n",
              "      <th></th>\n",
              "      <th>0</th>\n",
              "      <th>1</th>\n",
              "      <th>2</th>\n",
              "      <th>3</th>\n",
              "      <th>4</th>\n",
              "      <th>5</th>\n",
              "      <th>6</th>\n",
              "      <th>7</th>\n",
              "      <th>8</th>\n",
              "    </tr>\n",
              "  </thead>\n",
              "  <tbody>\n",
              "    <tr>\n",
              "      <th>0</th>\n",
              "      <td>0.646104</td>\n",
              "      <td>0.323350</td>\n",
              "      <td>1.686879</td>\n",
              "      <td>0.482727</td>\n",
              "      <td>1.983266</td>\n",
              "      <td>0.196196</td>\n",
              "      <td>0.076713</td>\n",
              "      <td>0.473570</td>\n",
              "      <td>-0.155748</td>\n",
              "    </tr>\n",
              "    <tr>\n",
              "      <th>1</th>\n",
              "      <td>-0.173192</td>\n",
              "      <td>-0.252206</td>\n",
              "      <td>-0.304144</td>\n",
              "      <td>-0.144720</td>\n",
              "      <td>-0.318454</td>\n",
              "      <td>-0.147879</td>\n",
              "      <td>-0.176010</td>\n",
              "      <td>-0.152587</td>\n",
              "      <td>-0.155748</td>\n",
              "    </tr>\n",
              "    <tr>\n",
              "      <th>2</th>\n",
              "      <td>-0.006738</td>\n",
              "      <td>0.013089</td>\n",
              "      <td>0.129017</td>\n",
              "      <td>-0.024571</td>\n",
              "      <td>0.206938</td>\n",
              "      <td>-0.033187</td>\n",
              "      <td>0.076713</td>\n",
              "      <td>-0.152587</td>\n",
              "      <td>-0.155748</td>\n",
              "    </tr>\n",
              "    <tr>\n",
              "      <th>3</th>\n",
              "      <td>-0.257499</td>\n",
              "      <td>-0.252206</td>\n",
              "      <td>-0.304144</td>\n",
              "      <td>-0.231495</td>\n",
              "      <td>-0.318454</td>\n",
              "      <td>-0.147879</td>\n",
              "      <td>-0.176010</td>\n",
              "      <td>-0.152587</td>\n",
              "      <td>-0.155748</td>\n",
              "    </tr>\n",
              "    <tr>\n",
              "      <th>4</th>\n",
              "      <td>-0.037003</td>\n",
              "      <td>-0.252206</td>\n",
              "      <td>-0.304144</td>\n",
              "      <td>-0.024571</td>\n",
              "      <td>-0.093286</td>\n",
              "      <td>-0.147879</td>\n",
              "      <td>-0.176010</td>\n",
              "      <td>-0.152587</td>\n",
              "      <td>-0.155748</td>\n",
              "    </tr>\n",
              "  </tbody>\n",
              "</table>\n",
              "</div>"
            ],
            "text/plain": [
              "          0         1         2         3         4         5         6  \\\n",
              "0  0.646104  0.323350  1.686879  0.482727  1.983266  0.196196  0.076713   \n",
              "1 -0.173192 -0.252206 -0.304144 -0.144720 -0.318454 -0.147879 -0.176010   \n",
              "2 -0.006738  0.013089  0.129017 -0.024571  0.206938 -0.033187  0.076713   \n",
              "3 -0.257499 -0.252206 -0.304144 -0.231495 -0.318454 -0.147879 -0.176010   \n",
              "4 -0.037003 -0.252206 -0.304144 -0.024571 -0.093286 -0.147879 -0.176010   \n",
              "\n",
              "          7         8  \n",
              "0  0.473570 -0.155748  \n",
              "1 -0.152587 -0.155748  \n",
              "2 -0.152587 -0.155748  \n",
              "3 -0.152587 -0.155748  \n",
              "4 -0.152587 -0.155748  "
            ]
          },
          "execution_count": 163,
          "metadata": {},
          "output_type": "execute_result"
        }
      ],
      "source": [
        "X = np.array(data_copy)\n",
        "from sklearn.preprocessing import StandardScaler\n",
        "sc = StandardScaler()\n",
        "X = sc.fit_transform(X[:,:-4])\n",
        "X = pd.DataFrame(X)\n",
        "X.head()"
      ]
    },
    {
      "cell_type": "code",
      "execution_count": 164,
      "metadata": {},
      "outputs": [],
      "source": [
        "X['status_type_link'] = data_copy['status_type_link']\n",
        "X['status_type_photo'] = data_copy['status_type_photo']\n",
        "X['status_type_status'] = data_copy['status_type_status']\n",
        "X['status_type_video'] = data_copy['status_type_video']\n",
        "X = np.array(X)"
      ]
    },
    {
      "cell_type": "code",
      "execution_count": 165,
      "metadata": {},
      "outputs": [
        {
          "data": {
            "text/plain": [
              "KMeans(max_iter=100, n_clusters=2, random_state=42)"
            ]
          },
          "execution_count": 165,
          "metadata": {},
          "output_type": "execute_result"
        }
      ],
      "source": [
        "from sklearn.cluster import KMeans\n",
        "\n",
        "km = KMeans(n_clusters=2,random_state = 42, max_iter=100)\n",
        "km.fit(X)"
      ]
    },
    {
      "cell_type": "code",
      "execution_count": 166,
      "metadata": {
        "id": "uAcVFMZy4bcz"
      },
      "outputs": [
        {
          "data": {
            "image/png": "[encoded data removed]",
            "text/plain": [
              "<Figure size 432x288 with 1 Axes>"
            ]
          },
          "metadata": {
            "needs_background": "light"
          },
          "output_type": "display_data"
        }
      ],
      "source": [
        "from sklearn.cluster import KMeans\n",
        "wcss = []  ##wcss stands for Within Cluster Sum of Squares\n",
        "for i in range(1, 31):\n",
        "    kmeans = KMeans(n_clusters = i, random_state = 42)\n",
        "    kmeans.fit(X)\n",
        "    wcss.append(kmeans.inertia_)\n",
        "plt.plot(range(1, 31), wcss)\n",
        "plt.title('The Elbow Method')\n",
        "plt.xlabel('Number of clusters')\n",
        "plt.ylabel('WCSS')\n",
        "plt.show()"
      ]
    },
    {
      "attachments": {},
      "cell_type": "markdown",
      "metadata": {},
      "source": [
        "In order to choose appropriate number of clusters, we graph the relationship between the number of clusters and Within Cluster Sum of Squares (WCSS) then we select the number of clusters where the change in WCSS begins to level off (elbow method).\n",
        "\n",
        "Around 10 clusters seems appropriate."
      ]
    },
    {
      "cell_type": "code",
      "execution_count": 167,
      "metadata": {},
      "outputs": [
        {
          "data": {
            "text/plain": [
              "4    4043\n",
              "0    1804\n",
              "1     618\n",
              "2     365\n",
              "9      89\n",
              "3      78\n",
              "7      23\n",
              "8      15\n",
              "6       8\n",
              "5       7\n",
              "dtype: int64"
            ]
          },
          "execution_count": 167,
          "metadata": {},
          "output_type": "execute_result"
        }
      ],
      "source": [
        "from sklearn.cluster import KMeans\n",
        "\n",
        "km1 = KMeans(n_clusters=10,random_state = 42, max_iter=100)\n",
        "\n",
        "km1.fit(X)\n",
        "y_kmeans = km1.fit_predict(X)\n",
        "y_kmeans = pd.DataFrame(y_kmeans)\n",
        "y_kmeans.value_counts()"
      ]
    },
    {
      "attachments": {},
      "cell_type": "markdown",
      "metadata": {},
      "source": [
        "Using PCA along with K means"
      ]
    },
    {
      "cell_type": "code",
      "execution_count": 168,
      "metadata": {},
      "outputs": [],
      "source": [
        "from sklearn.decomposition import PCA"
      ]
    },
    {
      "cell_type": "code",
      "execution_count": 169,
      "metadata": {},
      "outputs": [
        {
          "data": {
            "text/plain": [
              "array([0.36876407, 0.55222929, 0.65364376, 0.74239576, 0.82691554,\n",
              "       0.89982733, 0.94290932, 0.97568279, 0.99128379, 0.99878243,\n",
              "       1.        , 1.        , 1.        ])"
            ]
          },
          "execution_count": 169,
          "metadata": {},
          "output_type": "execute_result"
        }
      ],
      "source": [
        "pca = PCA()\n",
        "pca.fit(X)\n",
        "pca.explained_variance_ratio_.cumsum()"
      ]
    },
    {
      "cell_type": "code",
      "execution_count": 170,
      "metadata": {},
      "outputs": [
        {
          "data": {
            "text/plain": [
              "Text(0, 0.5, 'Cumulative Explained Variance')"
            ]
          },
          "execution_count": 170,
          "metadata": {},
          "output_type": "execute_result"
        },
        {
          "data": {
            "image/png": "[encoded data removed]",
            "text/plain": [
              "<Figure size 432x288 with 1 Axes>"
            ]
          },
          "metadata": {
            "needs_background": "light"
          },
          "output_type": "display_data"
        }
      ],
      "source": [
        "plt.plot(range(1,14),pca.explained_variance_ratio_.cumsum(), marker = 'o', linestyle = '--')\n",
        "plt.title(\"Explained Variance by components\")\n",
        "plt.xlabel(\"Number of Components\")\n",
        "plt.ylabel(\"Cumulative Explained Variance\")"
      ]
    },
    {
      "attachments": {},
      "cell_type": "markdown",
      "metadata": {},
      "source": [
        "We can choose 5 or 6 features using PCA"
      ]
    },
    {
      "cell_type": "code",
      "execution_count": 171,
      "metadata": {},
      "outputs": [],
      "source": [
        "pca = PCA(n_components=5)\n",
        "pca.fit(X)\n",
        "X_pca = pca.transform(X)"
      ]
    },
    {
      "cell_type": "code",
      "execution_count": 172,
      "metadata": {},
      "outputs": [
        {
          "data": {
            "image/png": "[encoded data removed]",
            "text/plain": [
              "<Figure size 432x288 with 1 Axes>"
            ]
          },
          "metadata": {
            "needs_background": "light"
          },
          "output_type": "display_data"
        }
      ],
      "source": [
        "wcss = []  ##wcss stands for Within Cluster Sum of Squares\n",
        "for i in range(1, 10):\n",
        "    kmeans = KMeans(n_clusters = i, random_state = 42)\n",
        "    kmeans.fit(X_pca)\n",
        "    wcss.append(kmeans.inertia_)\n",
        "plt.plot(range(1, 10), wcss)\n",
        "plt.title('The Elbow Method')\n",
        "plt.xlabel('Number of clusters')\n",
        "plt.ylabel('WCSS')\n",
        "plt.show()"
      ]
    },
    {
      "attachments": {},
      "cell_type": "markdown",
      "metadata": {},
      "source": [
        "4 clusters seem to be suitable "
      ]
    },
    {
      "cell_type": "code",
      "execution_count": 173,
      "metadata": {},
      "outputs": [
        {
          "name": "stdout",
          "output_type": "stream",
          "text": [
            " Time required: 0.28519344329833984\n"
          ]
        }
      ],
      "source": [
        "import time\n",
        "start1 = time.time()\n",
        "km_pca = KMeans(n_clusters=4,random_state = 42, max_iter=100)\n",
        "km_pca.fit(X_pca)\n",
        "y_kmeans_pca = km_pca.fit_predict(X_pca)\n",
        "y_kmeans_pca = pd.DataFrame(y_kmeans_pca)\n",
        "y_kmeans_pca.value_counts()\n",
        "end1 = time.time()\n",
        "print(\" Time required: \" + str(end1-start1))"
      ]
    },
    {
      "cell_type": "code",
      "execution_count": 174,
      "metadata": {},
      "outputs": [
        {
          "name": "stdout",
          "output_type": "stream",
          "text": [
            " Time required: 0.23482394218444824\n"
          ]
        }
      ],
      "source": [
        "import time\n",
        "start1 = time.time()\n",
        "km_pca = KMeans(n_clusters=4,init='k-means++',random_state = 42, max_iter=100)\n",
        "km_pca.fit(X_pca)\n",
        "y_kmeans_pca = km_pca.fit_predict(X_pca)\n",
        "y_kmeans_pca = pd.DataFrame(y_kmeans_pca)\n",
        "y_kmeans_pca.value_counts()\n",
        "end1 = time.time()\n",
        "print(\" Time required: \" + str(end1-start1))"
      ]
    },
    {
      "attachments": {},
      "cell_type": "markdown",
      "metadata": {},
      "source": [
        "Note: With k-means++ algorithm, the time required reduces due to better initialization "
      ]
    },
    {
      "cell_type": "code",
      "execution_count": 175,
      "metadata": {},
      "outputs": [
        {
          "data": {
            "text/html": [
              "<div>\n",
              "<style scoped>\n",
              "    .dataframe tbody tr th:only-of-type {\n",
              "        vertical-align: middle;\n",
              "    }\n",
              "\n",
              "    .dataframe tbody tr th {\n",
              "        vertical-align: top;\n",
              "    }\n",
              "\n",
              "    .dataframe thead th {\n",
              "        text-align: right;\n",
              "    }\n",
              "</style>\n",
              "<table border=\"1\" class=\"dataframe\">\n",
              "  <thead>\n",
              "    <tr style=\"text-align: right;\">\n",
              "      <th></th>\n",
              "      <th>status_type</th>\n",
              "      <th>num_reactions</th>\n",
              "      <th>num_comments</th>\n",
              "      <th>num_shares</th>\n",
              "      <th>num_likes</th>\n",
              "      <th>num_loves</th>\n",
              "      <th>num_wows</th>\n",
              "      <th>num_hahas</th>\n",
              "      <th>num_sads</th>\n",
              "      <th>num_angrys</th>\n",
              "      <th>Component 1</th>\n",
              "      <th>Component 2</th>\n",
              "      <th>Component 3</th>\n",
              "      <th>Component 4</th>\n",
              "      <th>Component 5</th>\n",
              "      <th>Cluster number</th>\n",
              "    </tr>\n",
              "  </thead>\n",
              "  <tbody>\n",
              "    <tr>\n",
              "      <th>0</th>\n",
              "      <td>video</td>\n",
              "      <td>529</td>\n",
              "      <td>512</td>\n",
              "      <td>262</td>\n",
              "      <td>432</td>\n",
              "      <td>92</td>\n",
              "      <td>3</td>\n",
              "      <td>1</td>\n",
              "      <td>1</td>\n",
              "      <td>0</td>\n",
              "      <td>2.366491</td>\n",
              "      <td>-0.157768</td>\n",
              "      <td>0.071954</td>\n",
              "      <td>-0.727902</td>\n",
              "      <td>0.001615</td>\n",
              "      <td>1</td>\n",
              "    </tr>\n",
              "    <tr>\n",
              "      <th>1</th>\n",
              "      <td>photo</td>\n",
              "      <td>150</td>\n",
              "      <td>0</td>\n",
              "      <td>0</td>\n",
              "      <td>150</td>\n",
              "      <td>0</td>\n",
              "      <td>0</td>\n",
              "      <td>0</td>\n",
              "      <td>0</td>\n",
              "      <td>0</td>\n",
              "      <td>-0.698267</td>\n",
              "      <td>0.072443</td>\n",
              "      <td>-0.070505</td>\n",
              "      <td>0.085603</td>\n",
              "      <td>-0.075334</td>\n",
              "      <td>0</td>\n",
              "    </tr>\n",
              "    <tr>\n",
              "      <th>2</th>\n",
              "      <td>video</td>\n",
              "      <td>227</td>\n",
              "      <td>236</td>\n",
              "      <td>57</td>\n",
              "      <td>204</td>\n",
              "      <td>21</td>\n",
              "      <td>1</td>\n",
              "      <td>1</td>\n",
              "      <td>0</td>\n",
              "      <td>0</td>\n",
              "      <td>0.227063</td>\n",
              "      <td>-0.128665</td>\n",
              "      <td>-0.158077</td>\n",
              "      <td>-0.344579</td>\n",
              "      <td>0.131121</td>\n",
              "      <td>0</td>\n",
              "    </tr>\n",
              "    <tr>\n",
              "      <th>3</th>\n",
              "      <td>photo</td>\n",
              "      <td>111</td>\n",
              "      <td>0</td>\n",
              "      <td>0</td>\n",
              "      <td>111</td>\n",
              "      <td>0</td>\n",
              "      <td>0</td>\n",
              "      <td>0</td>\n",
              "      <td>0</td>\n",
              "      <td>0</td>\n",
              "      <td>-0.746089</td>\n",
              "      <td>-0.036650</td>\n",
              "      <td>-0.085789</td>\n",
              "      <td>0.091574</td>\n",
              "      <td>-0.086772</td>\n",
              "      <td>0</td>\n",
              "    </tr>\n",
              "    <tr>\n",
              "      <th>4</th>\n",
              "      <td>photo</td>\n",
              "      <td>213</td>\n",
              "      <td>0</td>\n",
              "      <td>0</td>\n",
              "      <td>204</td>\n",
              "      <td>9</td>\n",
              "      <td>0</td>\n",
              "      <td>0</td>\n",
              "      <td>0</td>\n",
              "      <td>0</td>\n",
              "      <td>-0.520950</td>\n",
              "      <td>0.198077</td>\n",
              "      <td>-0.081585</td>\n",
              "      <td>0.069639</td>\n",
              "      <td>-0.063131</td>\n",
              "      <td>0</td>\n",
              "    </tr>\n",
              "  </tbody>\n",
              "</table>\n",
              "</div>"
            ],
            "text/plain": [
              "  status_type  num_reactions  num_comments  num_shares  num_likes  num_loves  \\\n",
              "0       video            529           512         262        432         92   \n",
              "1       photo            150             0           0        150          0   \n",
              "2       video            227           236          57        204         21   \n",
              "3       photo            111             0           0        111          0   \n",
              "4       photo            213             0           0        204          9   \n",
              "\n",
              "   num_wows  num_hahas  num_sads  num_angrys  Component 1  Component 2  \\\n",
              "0         3          1         1           0     2.366491    -0.157768   \n",
              "1         0          0         0           0    -0.698267     0.072443   \n",
              "2         1          1         0           0     0.227063    -0.128665   \n",
              "3         0          0         0           0    -0.746089    -0.036650   \n",
              "4         0          0         0           0    -0.520950     0.198077   \n",
              "\n",
              "   Component 3  Component 4  Component 5  Cluster number  \n",
              "0     0.071954    -0.727902     0.001615               1  \n",
              "1    -0.070505     0.085603    -0.075334               0  \n",
              "2    -0.158077    -0.344579     0.131121               0  \n",
              "3    -0.085789     0.091574    -0.086772               0  \n",
              "4    -0.081585     0.069639    -0.063131               0  "
            ]
          },
          "execution_count": 175,
          "metadata": {},
          "output_type": "execute_result"
        }
      ],
      "source": [
        "cluster = pd.concat([data,pd.DataFrame(X_pca)],axis =1 )\n",
        "cluster.columns.values[-5:] = ['Component 1', 'Component 2','Component 3','Component 4','Component 5']\n",
        "cluster['Cluster number'] = km_pca.labels_\n",
        "cluster.head()"
      ]
    },
    {
      "attachments": {},
      "cell_type": "markdown",
      "metadata": {},
      "source": [
        "PCA will help in visualisation as well as the dimensions are reduced but since it is difficult to visualise more than 2 dimensions, lets visualise the segments based on only first 2 components"
      ]
    },
    {
      "cell_type": "code",
      "execution_count": 176,
      "metadata": {},
      "outputs": [
        {
          "name": "stderr",
          "output_type": "stream",
          "text": [
            "c:\\Users\\Pujan Chitalia\\anaconda3\\lib\\site-packages\\seaborn\\_decorators.py:36: FutureWarning: Pass the following variables as keyword args: x, y. From version 0.12, the only valid positional argument will be `data`, and passing other arguments without an explicit keyword will result in an error or misinterpretation.\n",
            "  warnings.warn(\n"
          ]
        },
        {
          "data": {
            "image/png": "[encoded data removed]",
            "text/plain": [
              "<Figure size 432x288 with 1 Axes>"
            ]
          },
          "metadata": {
            "needs_background": "light"
          },
          "output_type": "display_data"
        }
      ],
      "source": [
        "x_axis = cluster['Component 1']\n",
        "y_axis = cluster['Component 2']\n",
        "sns.scatterplot(x_axis,y_axis,hue = cluster['Cluster number'] )\n",
        "plt.title('Clusters by PCA components')\n",
        "plt.show()"
      ]
    },
    {
      "attachments": {},
      "cell_type": "markdown",
      "metadata": {},
      "source": [
        "So when we use PCA before K-means, we can visually seperate almost the entire dataset. This is one of the biggest goals of PCA - to reduce the number of variables by combining them into bigger, more meaningful features."
      ]
    },
    {
      "cell_type": "markdown",
      "metadata": {
        "id": "QkifVYGZ59Hm"
      },
      "source": [
        "## Q2 Loss Functions"
      ]
    },
    {
      "cell_type": "markdown",
      "metadata": {
        "id": "Ea67Ngq-6AfC"
      },
      "source": [
        "Let the desired output to 10 inputs be,\n",
        "\n",
        "> [0,1,0,0,1,0,0,1,1,1]\n",
        "\n",
        "\n",
        "and let the corresponding actual output obtained from a machine be \n",
        "\n",
        "\n",
        "> [0.2, 0.2, 0.2, 0.2, 0.2, 0.2, 0.2, 0.2, 0.2, 0.2]\n",
        "\n",
        "\n",
        "Find programmatically or by hand the loss obtained from using:\n",
        "\n",
        "1.   a symmetric 0 − 1 loss function,\n",
        "\n",
        "2.   the cross-entropy loss function and\n",
        "\n",
        "3.   the hinge loss function.\n",
        "\n",
        "If required assume a threshold of 0.5 to obtain a class from the machine output.  (sklearn by default uses 0.5 as threshold for binary classification) "
      ]
    },
    {
      "cell_type": "code",
      "execution_count": 177,
      "metadata": {
        "id": "8ZOp5wOK6AEC"
      },
      "outputs": [
        {
          "name": "stdout",
          "output_type": "stream",
          "text": [
            "0.5\n"
          ]
        }
      ],
      "source": [
        "#Symmetric Loss Function\n",
        "\n",
        "actual = [0,1,0,0,1,0,0,1,1,1]\n",
        "predictions = [0.2, 0.2, 0.2, 0.2, 0.2, 0.2, 0.2, 0.2, 0.2, 0.2]\n",
        "\n",
        "loss = 0\n",
        "for i in range(len(actual)):\n",
        "  if actual[i] == round(predictions[i]):\n",
        "    loss += 0\n",
        "  else:\n",
        "    loss += 1\n",
        "loss = loss / len(actual)\n",
        "\n",
        "print(loss)"
      ]
    },
    {
      "cell_type": "code",
      "execution_count": 178,
      "metadata": {},
      "outputs": [
        {
          "name": "stdout",
          "output_type": "stream",
          "text": [
            "0.9162907318741551\n"
          ]
        }
      ],
      "source": [
        "# Cross Entropy Loss Function\n",
        "\n",
        "loss = 0\n",
        "for i in range(len(actual)):\n",
        "  loss += -(actual[i] * math.log(predictions[i]) + (1 - actual[i]) * math.log(1 - predictions[i]))\n",
        "loss = loss / len(actual)\n",
        "\n",
        "print(loss)"
      ]
    },
    {
      "cell_type": "code",
      "execution_count": 179,
      "metadata": {},
      "outputs": [
        {
          "name": "stdout",
          "output_type": "stream",
          "text": [
            "1.0000000000000002\n"
          ]
        }
      ],
      "source": [
        "# Hinge Loss Function\n",
        "ytrans = [-1 if i == 0 else 1 for i in actual]\n",
        "loss = 0\n",
        "for i in range(len(ytrans)):\n",
        "  loss += max(0, 1 - ytrans[i] * predictions[i])\n",
        "\n",
        "print( loss / len(ytrans))"
      ]
    },
    {
      "cell_type": "code",
      "execution_count": null,
      "metadata": {},
      "outputs": [],
      "source": []
    }
  ],
  "metadata": {
    "colab": {
      "provenance": []
    },
    "kernelspec": {
      "display_name": "base",
      "language": "python",
      "name": "python3"
    },
    "language_info": {
      "codemirror_mode": {
        "name": "ipython",
        "version": 3
      },
      "file_extension": ".py",
      "mimetype": "text/x-python",
      "name": "python",
      "nbconvert_exporter": "python",
      "pygments_lexer": "ipython3",
      "version": "3.9.7 (default, Sep 16 2021, 16:59:28) [MSC v.1916 64 bit (AMD64)]"
    },
    "vscode": {
      "interpreter": {
        "hash": "6d614f0a6627e81c70e37b5e5ba34d0836e489aa7aa9bf8e31ad76b0666a29c9"
      }
    }
  },
  "nbformat": 4,
  "nbformat_minor": 0
}
